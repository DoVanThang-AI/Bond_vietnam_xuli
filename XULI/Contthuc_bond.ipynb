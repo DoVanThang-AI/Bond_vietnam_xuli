{
 "cells": [
  {
   "cell_type": "code",
   "execution_count": 1,
   "metadata": {},
   "outputs": [],
   "source": [
    "import numpy as np"
   ]
  },
  {
   "attachments": {},
   "cell_type": "markdown",
   "metadata": {},
   "source": [
    "## 1.Modified Duration : rủi ro của trái phiếu"
   ]
  },
  {
   "cell_type": "code",
   "execution_count": 1,
   "metadata": {},
   "outputs": [
    {
     "data": {
      "text/plain": [
       "(1.4533512181608765, 1.3456955723711819)"
      ]
     },
     "execution_count": 1,
     "metadata": {},
     "output_type": "execute_result"
    }
   ],
   "source": [
    "def durations_explicit(c, y, m, n):\n",
    "    '''\n",
    "    c: coupon\n",
    "    y: yiel\n",
    "    m: tần suất trả lãi\n",
    "    n = số năm\n",
    "\n",
    "    '''\n",
    "    macaulay_duration = ((1+y) / (m*y)) - ( (1 + y + n*(c-y)) / ((m*c* ((1+y)**n - 1)) + m*y) )\n",
    "    modified_duration = macaulay_duration / (1 + y)\n",
    "    return macaulay_duration, modified_duration\n",
    "\n",
    "durations_explicit(c=0.03,y=0.08,m=2,n=3)"
   ]
  },
  {
   "cell_type": "code",
   "execution_count": 3,
   "metadata": {},
   "outputs": [
    {
     "name": "stdout",
     "output_type": "stream",
     "text": [
      "Macaulay Duration: 2.8286150467364823\n",
      "Modified Duration: 2.6190880062374835\n"
     ]
    },
    {
     "data": {
      "text/plain": [
       "(2.8286150467364823, 2.6190880062374835)"
      ]
     },
     "execution_count": 3,
     "metadata": {},
     "output_type": "execute_result"
    }
   ],
   "source": [
    "# Câu trả lời đầy đủ hơn các tại liệu cho trường hợp tỷ lệ trái phiếu giảm giá mỗi kì bằng với năng suất mỗi kì\n",
    "def durations_explicit(c, y, m, n):\n",
    "    \"\"\"Parameters:\n",
    "        c = coupon rate per period\n",
    "        y = yield per period\n",
    "        m = periods per year\n",
    "        n = periods remaining\"\"\"\n",
    "    if c==y: # Shorter explicit formula if coupon rate per period = yield per period\n",
    "        macaulay_duration = ((1+y)/(m*y))*(1 - (1 / (1+y)**n))\n",
    "        modified_duration = macaulay_duration / (1 + y)\n",
    "        print(f\"Macaulay Duration: {macaulay_duration}\")\n",
    "        print(f\"Modified Duration: {modified_duration}\")\n",
    "        return macaulay_duration, modified_duration\n",
    "    else:\n",
    "        macaulay_duration = ((1+y) / (m*y)) - ( (1 + y + n*(c-y)) / ((m*c* ((1+y)**n - 1)) + m*y) )\n",
    "        modified_duration = macaulay_duration / (1 + y)\n",
    "        print(f\"Macaulay Duration: {macaulay_duration}\")\n",
    "        print(f\"Modified Duration: {modified_duration}\")\n",
    "        return macaulay_duration, modified_duration\n",
    "\n",
    "durations_explicit(c=0.06, y=0.08, m=1, n=3)\n",
    "# Nếu lãi suất tăng 1% 1 năm thì trái phiếu sẽ giảm khoảng 2.16% trong 1 năm hoặc ngược lại nếu lãi giảm 1%\n"
   ]
  },
  {
   "attachments": {},
   "cell_type": "markdown",
   "metadata": {},
   "source": [
    "## price change with conversity and duration\n",
    "\n"
   ]
  },
  {
   "cell_type": "code",
   "execution_count": 5,
   "metadata": {},
   "outputs": [],
   "source": [
    "import pandas as pd\n",
    "import numpy as np\n",
    "def price_change(rate,coupon_rate, frequency, face_value,settlement_date, maturity_date, change_in_year):\n",
    "    try:\n",
    "        settlement_date = pd.to_datetime(settlement_date, format=\"%d/%m/%Y\")\n",
    "    except:\n",
    "        settlement_date = pd.to_datetime(settlement_date, format=\"%d-%m-%Y\")\n",
    "\n",
    "    try:\n",
    "        maturity_date = pd.to_datetime(maturity_date, format=\"%d/%m/%Y\")\n",
    "    except:\n",
    "        maturity_date = pd.to_datetime(maturity_date, format=\"%d-%m-%Y\")\n",
    "\n",
    "    data = pd.DataFrame()\n",
    "    rate = rate/100\n",
    "    coupon_rate = coupon_rate/100\n",
    "\n",
    "    n =pd.to_numeric(((pd.to_datetime(maturity_date) - pd.to_datetime(settlement_date))/365).days)\n",
    "    total_payment = n*frequency\n",
    "    coupon_payment = coupon_rate/frequency * face_value\n",
    "    payment = [coupon_payment]*(total_payment-1)+[coupon_payment+face_value]\n",
    "    data['period'] = pd.DataFrame(np.arange(1,total_payment+1))\n",
    "    data['payment'] = pd.DataFrame(payment)\n",
    "    data['dcoupon'] = data['payment']/((1+ rate/frequency)**data['period'])\n",
    "    data['pv'] = data['dcoupon'] / frequency * data['period'] / data['dcoupon'].sum()\n",
    "    duration = data['pv'].sum()\n",
    "    m_duration = (duration/(1+rate/frequency))\n",
    "\n",
    "    # convexity calculation \n",
    "\n",
    "    factor = 1/ (data['dcoupon'].sum()*(1+rate/frequency)**2)\n",
    "    data['cf'] = data['dcoupon']*(data['period']**2 + data['period'])/ (1+rate/frequency)**data['period']\n",
    "    convexity = factor * data['cf'].sum()\n",
    "\n",
    "    # price change by using duration and converxity\n",
    "    # price change = Duration Effect + converxity\n",
    "    price_change = (-duration*change_in_year*100)+(0.5*convexity*(change_in_year)**2*100)\n",
    "\n",
    "\n",
    "    return duration, m_duration, convexity,price_change,data"
   ]
  },
  {
   "cell_type": "code",
   "execution_count": 8,
   "metadata": {},
   "outputs": [
    {
     "data": {
      "text/plain": [
       "(10.265732191600454,\n",
       " 9.91858182763329,\n",
       " 203.1023511842184,\n",
       " -9.250220435679363,\n",
       "     period   payment    dcoupon        pv            cf\n",
       " 0        1    1.9575   1.891304  0.012999      3.654694\n",
       " 1        2    1.9575   1.827347  0.025119     10.235089\n",
       " 2        3    1.9575   1.765553  0.036404     19.109130\n",
       " 3        4    1.9575   1.705848  0.046897     29.730962\n",
       " 4        5    1.9575   1.648162  0.056639     41.631257\n",
       " 5        6    1.9575   1.592428  0.065668     54.408514\n",
       " 6        7    1.9575   1.538577  0.074022     67.721240\n",
       " 7        8    1.9575   1.486548  0.081736     81.280931\n",
       " 8        9    1.9575   1.436278  0.088844     94.845774\n",
       " 9       10    1.9575   1.387709  0.095377    108.214999\n",
       " 10      11    1.9575   1.340781  0.101367    121.223831\n",
       " 11      12    1.9575   1.295441  0.106843    133.738970\n",
       " 12      13    1.9575   1.251634  0.111832    145.654553\n",
       " 13      14    1.9575   1.209308  0.116362    156.888558\n",
       " 14      15    1.9575   1.168413  0.120457    167.379597\n",
       " 15      16    1.9575   1.128902  0.124143    177.084064\n",
       " 16      17    1.9575   1.090726  0.127441    185.973603\n",
       " 17      18    1.9575   1.053842  0.130375    194.032860\n",
       " 18      19    1.9575   1.018205  0.132964    201.257501\n",
       " 19      20    1.9575   0.983773  0.135229    207.652455\n",
       " 20      21    1.9575   0.950505  0.137189    213.230367\n",
       " 21      22    1.9575   0.918362  0.138862    218.010242\n",
       " 22      23    1.9575   0.887307  0.140264    222.016248\n",
       " 23      24    1.9575   0.857301  0.141413    225.276677\n",
       " 24      25    1.9575   0.828310  0.142324    227.823037\n",
       " 25      26    1.9575   0.800300  0.143012    229.689263\n",
       " 26      27    1.9575   0.773236  0.143490    230.911029\n",
       " 27      28  101.9575  38.912522  7.488462  12059.120056)"
      ]
     },
     "execution_count": 8,
     "metadata": {},
     "output_type": "execute_result"
    }
   ],
   "source": [
    "price_change(7,3.915,2,100,'15-05-2019','10-3-2034',0.01)"
   ]
  },
  {
   "cell_type": "code",
   "execution_count": null,
   "metadata": {},
   "outputs": [],
   "source": []
  }
 ],
 "metadata": {
  "kernelspec": {
   "display_name": "Python 3",
   "language": "python",
   "name": "python3"
  },
  "language_info": {
   "codemirror_mode": {
    "name": "ipython",
    "version": 3
   },
   "file_extension": ".py",
   "mimetype": "text/x-python",
   "name": "python",
   "nbconvert_exporter": "python",
   "pygments_lexer": "ipython3",
   "version": "3.10.11"
  },
  "orig_nbformat": 4
 },
 "nbformat": 4,
 "nbformat_minor": 2
}
